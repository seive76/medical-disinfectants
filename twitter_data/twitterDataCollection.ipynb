{
 "cells": [
  {
   "cell_type": "code",
   "execution_count": 1,
   "id": "0452a56f",
   "metadata": {},
   "outputs": [],
   "source": [
    "consumer_key = \"vVG6WEYcbTdXvPmusUvpzH3sE\"\n",
    "consumer_secret = \"ChrmklHwJfeeWXKu1Wi5DHdHJF839QxaTA4zDvEk7HRffcuEcj\"\n",
    "access_token = \"1838120562-5rDNXh1mOoW2Zq8l2eUX4oAillgz1IcgkOGuiVt\"\n",
    "access_token_secret = \"64sRs49h7EtptXYS9fvMsmBZcdbOFUxX1WJZSLhqKTSBe\""
   ]
  },
  {
   "cell_type": "code",
   "execution_count": 7,
   "id": "a94cecd8",
   "metadata": {},
   "outputs": [],
   "source": [
    "import tweepy"
   ]
  },
  {
   "cell_type": "code",
   "execution_count": 18,
   "id": "a189d65e",
   "metadata": {},
   "outputs": [],
   "source": [
    "auth = tweepy.OAuth1UserHandler(consumer_key = consumer_key, \n",
    "                                consumer_secret = consumer_secret, \n",
    "                                access_token = access_token, \n",
    "                                access_token_secret = access_token_secret)\n",
    "\n",
    "api = tweepy.API(auth)"
   ]
  },
  {
   "cell_type": "code",
   "execution_count": 23,
   "id": "be850a3f",
   "metadata": {},
   "outputs": [],
   "source": [
    "from classes.slistener import SListener"
   ]
  },
  {
   "cell_type": "code",
   "execution_count": 25,
   "id": "e7a9d9f4",
   "metadata": {},
   "outputs": [],
   "source": [
    "from classes.mylistener import MyListener"
   ]
  },
  {
   "cell_type": "code",
   "execution_count": 20,
   "id": "6c3b61bb",
   "metadata": {},
   "outputs": [
    {
     "ename": "TypeError",
     "evalue": "__init__() missing 2 required positional arguments: 'access_token' and 'access_token_secret'",
     "output_type": "error",
     "traceback": [
      "\u001b[0;31m---------------------------------------------------------------------------\u001b[0m",
      "\u001b[0;31mTypeError\u001b[0m                                 Traceback (most recent call last)",
      "Cell \u001b[0;32mIn [20], line 8\u001b[0m\n\u001b[1;32m      5\u001b[0m listen \u001b[38;5;241m=\u001b[39m SListener(api)\n\u001b[1;32m      7\u001b[0m \u001b[38;5;66;03m# Instantiate the Stream object\u001b[39;00m\n\u001b[0;32m----> 8\u001b[0m stream \u001b[38;5;241m=\u001b[39m \u001b[43mtweepy\u001b[49m\u001b[38;5;241;43m.\u001b[39;49m\u001b[43mStream\u001b[49m\u001b[43m(\u001b[49m\u001b[43mauth\u001b[49m\u001b[43m,\u001b[49m\u001b[43m \u001b[49m\u001b[43mlisten\u001b[49m\u001b[43m)\u001b[49m\n\u001b[1;32m     10\u001b[0m \u001b[38;5;66;03m# Begin collecting data\u001b[39;00m\n\u001b[1;32m     11\u001b[0m stream\u001b[38;5;241m.\u001b[39mfilter(track \u001b[38;5;241m=\u001b[39m keywords_to_track)\n",
      "\u001b[0;31mTypeError\u001b[0m: __init__() missing 2 required positional arguments: 'access_token' and 'access_token_secret'"
     ]
    }
   ],
   "source": [
    "# Set up words to track\n",
    "keywords_to_track = ['#rstats', '#python']\n",
    "\n",
    "# Instantiate the SListener object \n",
    "listen = SListener(api)\n",
    "\n",
    "# Instantiate the Stream object\n",
    "stream = tweepy.Stream(auth, listen)\n",
    "\n",
    "# Begin collecting data\n",
    "stream.filter(track = keywords_to_track)"
   ]
  },
  {
   "cell_type": "code",
   "execution_count": 29,
   "id": "10e6f351",
   "metadata": {},
   "outputs": [
    {
     "ename": "TypeError",
     "evalue": "__init__() missing 4 required positional arguments: 'consumer_key', 'consumer_secret', 'access_token', and 'access_token_secret'",
     "output_type": "error",
     "traceback": [
      "\u001b[0;31m---------------------------------------------------------------------------\u001b[0m",
      "\u001b[0;31mTypeError\u001b[0m                                 Traceback (most recent call last)",
      "Cell \u001b[0;32mIn [29], line 11\u001b[0m\n\u001b[1;32m      5\u001b[0m listen \u001b[38;5;241m=\u001b[39m MyListener(consumer_key \u001b[38;5;241m=\u001b[39m consumer_key, \n\u001b[1;32m      6\u001b[0m                                 consumer_secret \u001b[38;5;241m=\u001b[39m consumer_secret, \n\u001b[1;32m      7\u001b[0m                                 access_token \u001b[38;5;241m=\u001b[39m access_token, \n\u001b[1;32m      8\u001b[0m                                 access_token_secret \u001b[38;5;241m=\u001b[39m access_token_secret)\n\u001b[1;32m     10\u001b[0m \u001b[38;5;66;03m# Instantiate the Stream object\u001b[39;00m\n\u001b[0;32m---> 11\u001b[0m stream \u001b[38;5;241m=\u001b[39m \u001b[43mtweepy\u001b[49m\u001b[38;5;241;43m.\u001b[39;49m\u001b[43mStream\u001b[49m\u001b[43m(\u001b[49m\u001b[43m)\u001b[49m\n\u001b[1;32m     13\u001b[0m \u001b[38;5;66;03m# Begin collecting data\u001b[39;00m\n\u001b[1;32m     14\u001b[0m stream\u001b[38;5;241m.\u001b[39mfilter(track \u001b[38;5;241m=\u001b[39m keywords_to_track)\n",
      "\u001b[0;31mTypeError\u001b[0m: __init__() missing 4 required positional arguments: 'consumer_key', 'consumer_secret', 'access_token', and 'access_token_secret'"
     ]
    }
   ],
   "source": [
    "# Set up words to track\n",
    "keywords_to_track = ['#rstats', '#python']\n",
    "\n",
    "# Instantiate the SListener object \n",
    "listen = MyListener(consumer_key = consumer_key, \n",
    "                                consumer_secret = consumer_secret, \n",
    "                                access_token = access_token, \n",
    "                                access_token_secret = access_token_secret)\n",
    "\n",
    "# Instantiate the Stream object\n",
    "stream = tweepy.Stream()\n",
    "\n",
    "# Begin collecting data\n",
    "stream.filter(track = keywords_to_track)"
   ]
  },
  {
   "cell_type": "code",
   "execution_count": null,
   "id": "ba8ac3ef",
   "metadata": {},
   "outputs": [],
   "source": []
  },
  {
   "cell_type": "code",
   "execution_count": 10,
   "id": "3c987207",
   "metadata": {},
   "outputs": [
    {
     "ename": "NameError",
     "evalue": "name 'stream' is not defined",
     "output_type": "error",
     "traceback": [
      "\u001b[0;31m---------------------------------------------------------------------------\u001b[0m",
      "\u001b[0;31mNameError\u001b[0m                                 Traceback (most recent call last)",
      "Cell \u001b[0;32mIn [10], line 5\u001b[0m\n\u001b[1;32m      2\u001b[0m \u001b[38;5;28;01mimport\u001b[39;00m \u001b[38;5;21;01mjson\u001b[39;00m\n\u001b[1;32m      4\u001b[0m \u001b[38;5;66;03m# Convert from JSON to Python object\u001b[39;00m\n\u001b[0;32m----> 5\u001b[0m tweet \u001b[38;5;241m=\u001b[39m json\u001b[38;5;241m.\u001b[39mloads(\u001b[43mstream\u001b[49m)\n\u001b[1;32m      7\u001b[0m \u001b[38;5;66;03m# Print tweet text\u001b[39;00m\n\u001b[1;32m      8\u001b[0m \u001b[38;5;28mprint\u001b[39m(tweet[\u001b[38;5;124m'\u001b[39m\u001b[38;5;124mtext\u001b[39m\u001b[38;5;124m'\u001b[39m])\n",
      "\u001b[0;31mNameError\u001b[0m: name 'stream' is not defined"
     ]
    }
   ],
   "source": [
    "# Load JSON\n",
    "import json\n",
    "\n",
    "# Convert from JSON to Python object\n",
    "tweet = json.loads(stream)\n",
    "\n",
    "# Print tweet text\n",
    "print(tweet['text'])\n",
    "\n",
    "# Print tweet id\n",
    "print(tweet['id'])"
   ]
  },
  {
   "cell_type": "code",
   "execution_count": null,
   "id": "1bbe9ab8",
   "metadata": {},
   "outputs": [],
   "source": [
    "# Print the text of the tweet stored in rt\n",
    "print(rt['text'])\n",
    "\n",
    "# Print the text of tweet which has been retweeted\n",
    "print(rt['retweeted_status']['text'])\n",
    "\n",
    "# Print the user handle of the tweet\n",
    "print(rt['user']['screen_name'])\n",
    "\n",
    "# Print the user handle of the tweet which has been retweeted\n",
    "print(rt['retweeted_status']['user']['screen_name'])"
   ]
  }
 ],
 "metadata": {
  "kernelspec": {
   "display_name": "twitter_jupyter",
   "language": "python",
   "name": "twitter"
  },
  "language_info": {
   "codemirror_mode": {
    "name": "ipython",
    "version": 3
   },
   "file_extension": ".py",
   "mimetype": "text/x-python",
   "name": "python",
   "nbconvert_exporter": "python",
   "pygments_lexer": "ipython3",
   "version": "3.9.12"
  }
 },
 "nbformat": 4,
 "nbformat_minor": 5
}
