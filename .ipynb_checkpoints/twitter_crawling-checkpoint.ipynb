{
 "cells": [
  {
   "cell_type": "code",
   "execution_count": 3,
   "id": "4ebca94a",
   "metadata": {},
   "outputs": [],
   "source": [
    "twitter_consumer_key = \"vVG6WEYcbTdXvPmusUvpzH3sE\"\n",
    "twitter_consumer_secret = \"ChrmklHwJfeeWXKu1Wi5DHdHJF839QxaTA4zDvEk7HRffcuEcj\"\n",
    "twitter_access_token = \"1838120562-5rDNXh1mOoW2Zq8l2eUX4oAillgz1IcgkOGuiVt\"\n",
    "twitter_access_secret = \"64sRs49h7EtptXYS9fvMsmBZcdbOFUxX1WJZSLhqKTSBe\""
   ]
  },
  {
   "cell_type": "code",
   "execution_count": 4,
   "id": "8c22cce7",
   "metadata": {},
   "outputs": [],
   "source": [
    "import twitter"
   ]
  },
  {
   "cell_type": "code",
   "execution_count": 5,
   "id": "9cde48c7",
   "metadata": {},
   "outputs": [],
   "source": [
    "twitter_api = twitter.Api(consumer_key=twitter_consumer_key,\n",
    "                          consumer_secret=twitter_consumer_secret, \n",
    "                          access_token_key=twitter_access_token, \n",
    "                          access_token_secret=twitter_access_secret)"
   ]
  },
  {
   "cell_type": "code",
   "execution_count": 9,
   "id": "6212b11d",
   "metadata": {},
   "outputs": [
    {
     "data": {
      "text/plain": [
       "[('RT @HARUkana__0504: 혹시 다칠 수도 잇잔아\\n알콜솜이랑 밴드, 진통제 및 약은?\\n손 소독제는?\\n바쁘다 바빠 현대사회 보조배터리는?\\n길가다 연예인 만났을 때 싸인 받을 수첩이랑 펜은?\\n당 떨어져서 쓰러지면 어카누 간식들은?\\n내 왁구체크를…',\n",
       "  7),\n",
       " ('RT @nocutnews: 온라인에 공유된 수많은 동영상에는 당국이 거주자의 집 내부 벽, 가구, 침구 및 냉장고 내부에 소독제를 뿌리는 모습이 담겼으며 주민들은 분무기가 장착된 비행기가 도시를 자주 비행했다고 말한 것으로 알려지고 있다.\\n\\nhttp…',\n",
       "  5),\n",
       " ('RT @astro_cky: 소독제 뿌려주실 때 라키가 살짝 턴 돌았는데,, 돌았다 팽키를 보았다… 랔프님들 애써 참으시는데 다 느껴져서 웃겼음\\n오늘도 콘스탄스네에사 춤추는데 표정이 역대급으로 능청스러워서 또 귀여움\\U0001f979\\U0001f979\\U0001f979\\U0001f979',\n",
       "  5),\n",
       " ('소독제를 몸에 주입하면 모든 세균이랑 바이러스가 소독되어서 병이 치료될 거에요!!', 2),\n",
       " ('시우 tmi 푸는 타래~ \\n186에 26살 회계부 주임 \\n키 별로 안 좋아하는 편 이유:너무 커서 가는 곳마다 이목 집중됨\\n공설 훈남이긴 한데 정작 자기는 자기보다 잘생긴 사람 많지 않냐면서 이해X\\n외모에… https://t.co/v4EKjyqT5u',\n",
       "  1),\n",
       " ('소독제가 존나 시러잉 ㅜ', 1),\n",
       " ('실은 델포스도 먼저 나서고 싶진 않은 거다. 그는 벌벌떠는 손으로 친구 등을 떠민다. 드디어 지하 저장실 문이 열린다. 수도꼭지 하나에서 물이 새어 나오고 있다. 비누와 소독제 냄세가 난다.',\n",
       "  1),\n",
       " ('리히트 &gt; 남방개\\n\\n방방이가 정신을 놓을 일이 뭐가 있지.. 직접 일이라도 저질렀나요? 만약 그런 거라면... 대신 뒤처리하고 방개 데리고 아지트 와서 손에 따뜻한 음료 쥐여주겠죠. 자기가 처리한 걸로 할… https://t.co/JIx9xCDdYE',\n",
       "  1),\n",
       " ('까묵지말고소독제사기..', 1),\n",
       " ('패드 닦는데 알콜 스왑 없길래 대충\\n소독제 알콜이니까 그거 휴지에 뿌리면 그게 \\n그거지 라는 생각으로 다 닦고 뿌듯해 있었는데\\n무알콜 이었음; https://t.co/jZU8d4pRj5',\n",
       "  1),\n",
       " ('배송\\n야외소독제\\n횡성용역\\n덴푸라야\\n거제시대리기사 https://t.co/a7mkp3ATuA', 1),\n",
       " ('온라인에 공유된 수많은 동영상에는 당국이 거주자의 집 내부 벽, 가구, 침구 및 냉장고 내부에 소독제를 뿌리는 모습이 담겼으며 주민들은 분무기가 장착된 비행기가 도시를 자주 비행했다고 말한 것으로 알려지고… https://t.co/i8qTUDvX1W',\n",
       "  1),\n",
       " ('감사하는 마음은 백신이며, 해독제이며, 소독제다.\\n-존 헨리 조웻', 1),\n",
       " ('@gimmosnan 글리세린이 눈앞에있는데 소독제로 착각해버렸지뭐야 헤헷☆', 1),\n",
       " ('지하철역에 왜 소독제가 별로 없을까?', 1),\n",
       " ('@Hip_seth 그 모냐 소독제로 알콜향을 입혀보아요', 1),\n",
       " ('아, 네 손 소독제 좋더라?', 1),\n",
       " ('@Cork_Sni  살균 소독제 스프ˇ레이 이(가) 나왔다!', 1),\n",
       " ('#출장업소 \\n유아소독제 순창섹파  해운대 풋워십 \\nhttps://t.co/EBElcKPNPz', 1),\n",
       " ('도시계획시설 유니크 백일촬영 영등포 장난감소독제 알빙 헬렌영어학원 스케치 https://t.co/mz42sFcIZh', 1)]"
      ]
     },
     "execution_count": 9,
     "metadata": {},
     "output_type": "execute_result"
    }
   ],
   "source": [
    "from collections import Counter\n",
    "\n",
    "query = \"소독제\"\n",
    "statuses = twitter_api.GetSearch(term=query, count=100)\n",
    "\n",
    "result =[]\n",
    "\n",
    "for status in statuses:\n",
    "#    for tag in status:\n",
    "    result.append(status.text)\n",
    "    \n",
    "Counter(result).most_common(20)"
   ]
  },
  {
   "cell_type": "code",
   "execution_count": 16,
   "id": "d1f18438",
   "metadata": {},
   "outputs": [
    {
     "data": {
      "text/plain": [
       "[('RT @jijijikjijik: 이걸 미러링이랍시고 하는 꼴이 우스운게 열차에 권력자 얼굴 합성한거에 열폭하다보니 시민들에게 달려드는 윤석열차와 다르게 문재열차는 이명박근혜전두환을 향해 폭주하는 걸로 그려 놔 버렸네? 이러면 의도와 반대로 문재열차는…',\n",
       "  16),\n",
       " (\"RT @baxter005: '윤석열차' 외압논란에 대한 전국시사만화협회의 성명서 https://t.co/A3K1MPMabO\", 11),\n",
       " ('RT @naanangnaang: 윤석열차 그림 학생 학교의 교감이랑 인터뷰 했네. 다행히 교감이 상식있는 분.\\n\\n이 학교의 B교감은 5일 &lt;오마이뉴스&gt;와 통화에서 \"카툰을 그린 학생이 마음을 굳게 먹고 있다\"며 \"나중에 커서 이 일이 트라우마로 남으…',\n",
       "  8),\n",
       " ('RT @JTBC_news: 한동훈, \\'윤석열차\\' 그림에 \"제가 심사위원이면 상 안 줬을 것\"\\nhttps://t.co/umm0kCwtGB',\n",
       "  8),\n",
       " (\"RT @songjung1209: 윤석열차, '웹툰협회' 입장문 https://t.co/2WmrUBGDww\", 6),\n",
       " ('RT @butdowrong: 정부가 윤석열차 그리기대회가 열렸음을 선포했습니다.', 5),\n",
       " ('RT @ia7h6eGzFoshms0: 출근길에 윤석열차에 대해서 어떻게 생각하냐는 질문에 대답할게 없다가 얼마나 옹졸한 답변이냐면, 보통 어른이었어도 \"허허, 제 부족함이지요\"나 \"문체부에 지시해보겠습니다\" 가 상식적이거든.. 할말없다 쌩~ 이 뭐겠…',\n",
       "  5),\n",
       " ('RT @TangTan08793028: 윤석열차 물타기하려는 좆무위키 대똥꼬쇼 https://t.co/Bhu6LUu4fb', 5),\n",
       " ('RT @nicheinmo: \\'윤석열차\\' 작품으로 금상을 받은 학생이 재학 중인 A고등학교에 욕설 전화가 걸려오고 있는 것으로 확인됐다\\n\\n하지만 이 학교의 B교감은 \"카툰을 그린 학생이 마음을 굳게 먹고 있다\"며\\n\\n\"나중에 커서 이 일이 트라우마로 남…',\n",
       "  3),\n",
       " ('RT @0Cv0nn: 물타기 진짜...그래서 기안84를 문체부에서 조사라도 했냐? 뭐 만화진흥원 예산 깎는다 협박 했어?ㅋㅋㅋ윤석열차 그림보고 일반 시민들이 이렇다 저렇다 하는건 당연히 자윤데 그걸 정부에서 뭐라하니까 검열이니 뭐니 이야기 나오는건디…',\n",
       "  3),\n",
       " ('RT @OSR012: 국가지도자란 매순간 일거수일투족을 조심해야하는 자리. 지난 대선 이재명 윤석열을 보며 아이들은 무슨 생각을 했을까?\\n\\n&lt;‘윤석열차’ 그린 이유 “지난 대선 기간에 윤 대통령이 열차 안에서 신발을 벗지 않고 의자에 발을 올린 일이…',\n",
       "  2),\n",
       " ('RT @amnseoul: [포토] \\'천공열차\\'까지 나온 \\'윤석열차\\' 엄중경고 패러디 만발 https://t.co/E8EGYcG0i7\\n\"그 엄중경고 정부에 되돌려드립니다\"..\"만화의 가장 큰 기능이 비판과 풍자, 행사 취지에 정확히 부합하는 작품 아닌…',\n",
       "  2),\n",
       " ('RT @ddanzis: [딴지만평]진짜 윤석열차\\n\\nhttps://t.co/VAvWOPDlrA\\n\\n#딴지 #딴지만평 #윤석열 #대통령 #청와대 #용산 #비용 #윤석열차 https://t.co/5TejyAZJzO',\n",
       "  2),\n",
       " ('RT @jji82407482: 요즘 논란되는 윤석열차에 관한 한동훈 생각..\\n더할나위없이 깔끔한 답변👍 https://t.co/aI4uvqmCl3',\n",
       "  2),\n",
       " ('RT @chinchinchllee: 윤석열차 https://t.co/wLmNoTxRjk', 2),\n",
       " ('[단독] \"\\'윤석열차\\' 아이디어, 좌석에 발 올린 모습에서 착안\"  #윤석열차 #카툰 https://t.co/R3wUupNZ3P 윤근혁 기자',\n",
       "  1),\n",
       " ('문화예술인들 “문체부는 ‘윤석열차’ 검열 정당화 멈추고, 피해 학생에 사과하라”@newsvop https://t.co/SwnXr6OuiT',\n",
       "  1),\n",
       " (\"만화계 대표 단체들의 성명이 이어지는 등 '윤석열차'발 '표현의 자유' 논란은 거세질 전망입니다.\\nhttps://t.co/7hR8dRuh05\",\n",
       "  1),\n",
       " (\"RT @mbcnews: 만화계 대표 단체들의 성명이 이어지는 등 '윤석열차'발 '표현의 자유' 논란은 거세질 전망입니다.\\nhttps://t.co/7hR8dRuh05\",\n",
       "  1),\n",
       " ('바보야 윤석열차에 상을 주고 살아있는 권력을 수사해야 니가 대통령이 되지! 형님 하는 거 못 봤냐 그러니까 너는 안되는 거야 https://t.co/t5pA4YqdnL',\n",
       "  1)]"
      ]
     },
     "execution_count": 16,
     "metadata": {},
     "output_type": "execute_result"
    }
   ],
   "source": [
    "query = \"윤석열차\"\n",
    "statuses = twitter_api.GetSearch(term=query, count=100)\n",
    "\n",
    "result2 =[]\n",
    "\n",
    "for status in statuses:\n",
    "#    for tag in status:\n",
    "    result2.append(status.text)\n",
    "    \n",
    "Counter(result2).most_common(20)"
   ]
  },
  {
   "cell_type": "code",
   "execution_count": null,
   "id": "5163fe6b",
   "metadata": {},
   "outputs": [],
   "source": []
  }
 ],
 "metadata": {
  "kernelspec": {
   "display_name": "py39_7",
   "language": "python",
   "name": "py39_7"
  },
  "language_info": {
   "codemirror_mode": {
    "name": "ipython",
    "version": 3
   },
   "file_extension": ".py",
   "mimetype": "text/x-python",
   "name": "python",
   "nbconvert_exporter": "python",
   "pygments_lexer": "ipython3",
   "version": "3.9.7"
  }
 },
 "nbformat": 4,
 "nbformat_minor": 5
}
