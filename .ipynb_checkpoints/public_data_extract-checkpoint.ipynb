{
 "cells": [
  {
   "cell_type": "code",
   "execution_count": 2,
   "id": "b1a0d0c7",
   "metadata": {},
   "outputs": [],
   "source": [
    "import requests"
   ]
  },
  {
   "cell_type": "code",
   "execution_count": 3,
   "id": "bc433a4d",
   "metadata": {},
   "outputs": [],
   "source": [
    "service_key = \"service_key\""
   ]
  },
  {
   "cell_type": "code",
   "execution_count": 6,
   "id": "7281db3c",
   "metadata": {},
   "outputs": [],
   "source": [
    "url = 'http://apis.data.go.kr/1471000/DrugPrdtPrmsnInfoService02/getDrugPrdtPrmsnDtlInq01'\n",
    "params ={'serviceKey' : service_key, \n",
    "         'pageNo' : '1', \n",
    "         'numOfRows' : '3', \n",
    "         'type' : 'xml', \n",
    "         'item_name' : '', \n",
    "         'entp_name' : '', \n",
    "         'item_permit_date' : '', \n",
    "         'entp_no' : '', \n",
    "         'bar_code' : '', \n",
    "         'item_seq' : '', \n",
    "         'start_change_date' : '', \n",
    "         'end_change_date' : '', \n",
    "         'order' : '', \n",
    "         'edi_code' : '', \n",
    "         'atc_code' : ''} "
   ]
  },
  {
   "cell_type": "code",
   "execution_count": null,
   "id": "5bc80ed1",
   "metadata": {},
   "outputs": [],
   "source": [
    "response = requests.get(url, params=params)"
   ]
  }
 ],
 "metadata": {
  "kernelspec": {
   "display_name": "py39_7",
   "language": "python",
   "name": "py39_7"
  },
  "language_info": {
   "codemirror_mode": {
    "name": "ipython",
    "version": 3
   },
   "file_extension": ".py",
   "mimetype": "text/x-python",
   "name": "python",
   "nbconvert_exporter": "python",
   "pygments_lexer": "ipython3",
   "version": "3.9.7"
  }
 },
 "nbformat": 4,
 "nbformat_minor": 5
}
