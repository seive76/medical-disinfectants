{
 "cells": [
  {
   "cell_type": "code",
   "execution_count": 1,
   "id": "b8ec88d8",
   "metadata": {},
   "outputs": [],
   "source": [
    "consumer_key = \"vVG6WEYcbTdXvPmusUvpzH3sE\"\n",
    "consumer_secret = \"ChrmklHwJfeeWXKu1Wi5DHdHJF839QxaTA4zDvEk7HRffcuEcj\"\n",
    "access_token = \"1838120562-5rDNXh1mOoW2Zq8l2eUX4oAillgz1IcgkOGuiVt\"\n",
    "access_token_secret = \"64sRs49h7EtptXYS9fvMsmBZcdbOFUxX1WJZSLhqKTSBe\""
   ]
  },
  {
   "cell_type": "code",
   "execution_count": 2,
   "id": "8b98e4eb",
   "metadata": {},
   "outputs": [],
   "source": [
    "import twitter"
   ]
  },
  {
   "cell_type": "code",
   "execution_count": 3,
   "id": "56234182",
   "metadata": {},
   "outputs": [],
   "source": [
    "twitter_api = twitter.Api(consumer_key = consumer_key,\n",
    "                          consumer_secret = consumer_secret, \n",
    "                          access_token_key = access_token, \n",
    "                          access_token_secret = access_token_secret)"
   ]
  },
  {
   "cell_type": "code",
   "execution_count": 4,
   "id": "8d7d808a",
   "metadata": {},
   "outputs": [
    {
     "data": {
      "text/plain": [
       "[('RT @324_922528: 나연이 카페가서 시럽을 손 소독제로 착각한 게 두번째인거얔ㅋㅋㅋㅋㅋ 2016년에는 채영이가 2022년에는 정연이가 목격한거네ㅋㅋㅋㅋㅋㅋㅋㅋㅋㅋ',\n",
       "  18),\n",
       " ('RT @zzangdoling: 아 이거 웃기다\\n설정 상 오른쪽 분 흡연ing 중이신 건데\\n지금 왼쪽 분 소독제 분사ing\\n둘이 붙어있어도 되는 거임?\\n둘이 붙어있는 거 약간 자까님 캐붕? https://t.co/cAbb6R1AuT',\n",
       "  15),\n",
       " (\"RT @CTjangmi: 받았다앙♡\\n섹시파가 꼭 들고 다녀야하는 소독제!!!!!\\n\\nGlobal Itboy Jimin's song #WithYou by #BTSJIMIN #JIMIN of #BTS (@BTS_twt) https://t.co/39WmMu…\",\n",
       "  10),\n",
       " ('RT @alljobduck: 한남 성관계권 보장하려고 여자가 손세정제보다 독한 소독제로 질 닦아버리고, 한남 성관계 좋게한다고 소음순 대음순 수술하고 나이들어서 질조임(웩)안좋다고 시술하고&lt;-한국 얘기입니다. 한국은 여성의 질에도 성형하는 나라에요.…',\n",
       "  3),\n",
       " ('소독제를 몸에 주입하면 모든 세균이랑 바이러스가 소독되어서 병이 치료될 거에요!!', 2),\n",
       " ('RT @_jjisland_: 221001🌪\\n\\n소독제😈\\n\\n#미래소년 #MIRAE #박시영 #시영 #SIYOUNG #PARKSIYOUNG #シヨン https://t.co/fjAiqIWBOb',\n",
       "  2),\n",
       " ('#ㅍㅇ \\n유아소독제 포천섹파 음성애인대행 팔로우 \\nnull', 1),\n",
       " ('*언니네트워크 및 연대단체 회원은 할인가에 입금해주시면 됩니다\\n*10월 23일 (일) 자정까지 취소 연락을 주신 경우에만 환불이 가능합니다\\n*원활한 진행을 위해 행사 시작 15분 전까지 입장해주시면 감사하겠… https://t.co/opIDTg9ZxD',\n",
       "  1),\n",
       " ('탬버린즈 손소독제 어떤향은 ㄱㅊ은데 또 어떤향은 존니 독해서 손소독하고 밥먹으면 소독제도 같이 먹는 늭낌남', 1),\n",
       " ('577793\\n파주글래머\\n밀양기사\\n연기군글래머\\n런던\\n안성시\\n이마트24\\n성주군알바\\n성주군유부녀\\n양주미용샵\\n영천코로나\\n경산시헬스장\\n강원캠핑장\\n집순이\\n스타일링\\n함안군횟집\\n유아소독제 https://t.co/F5UOIqzsUs',\n",
       "  1),\n",
       " ('티켓🌟\\n신분증🌟\\n아미밤, 건전지🌟\\n물🌟\\n쵸콜렛, 에너지바 등🌟\\n마스크🌟\\n소독제 휴지 물티슈 등 개인 위생용품🌟\\n끝. https://t.co/GxQBa8O9ft',\n",
       "  1),\n",
       " ('RT @glorypath95: 준라미스님오늘첨봤는데 성량이엄청나심~진심공연장지붕이날아가는줄알았어요👏🏻👏🏻총사테스트오늘간지럼은안했어요ㅋ왜안해쓰까~총사테스트때밍기한테어디에서왔냐니까프랑스에서왔대ㅋ포르토스가여기가프랑스야!!~ㅋㅋ성라미스가마스크씌워주고아라미스…',\n",
       "  1),\n",
       " ('나 어제 이거 삿다... 지금 소독제 뿌리고 말리고 잇는데 착샷 올릴개 https://t.co/7lHvaKK6Od', 1),\n",
       " ('RT @fievrementhe: 노동자에게 손 소독제 먹으라 강요했던 그 계열사네,, 여긴 인성 멀쩡해 보이면 관리직 채용 면접에서 탈락시키나? \\n\\nhttps://t.co/N9IM7n8POF',\n",
       "  1),\n",
       " ('볼 안쫙이 너무 부어서 치료 좀 할겸 소독제 사고 옆에 재밋어보이는 카레가 잇길랴 카레도 좀 사서 가는 퇴근길 https://t.co/hXRvIPB4hC',\n",
       "  1),\n",
       " ('MBTI플레이스\\n사람사는세상\\n좋은회사\\n시니어연기자\\n국사봉체육관\\n대학생의\\n살균소독제\\n엄마표교구\\n커스텀캔\\n합창단반주\\n플로리스트학원\\n양배추인형\\n경남사우나\\n꾸준함의\\n보는재미\\n경제생태계\\n커플\\n바이더퀄리티_부산\\n자이언… https://t.co/3WJf3qVjYb',\n",
       "  1),\n",
       " ('노동자에게 손 소독제 먹으라 강요했던 그 계열사네,, 여긴 인성 멀쩡해 보이면 관리직 채용 면접에서 탈락시키나? \\n\\nhttps://t.co/N9IM7n8POF https://t.co/HT68AcbTII',\n",
       "  1),\n",
       " ('아빠놀이터\\n마산금방\\n마산드림본부\\n내차\\n잔반처리반\\n인천좋은\\n성산나들이\\n얼바인맘\\n오뉴파파\\n고요한\\n수제우유\\n고양오피걸\\n장난감소독제\\n애월속눈썹\\n강남뷰러펌\\n리틀\\n여주안마방\\n올핸\\n내심장들 https://t.co/hBsrzSQcIG',\n",
       "  1),\n",
       " ('여기 알바했는데 샌드위치 조립쪽은 다들 이상한 방식으로 친절함. 이상하게 반죽 파트가 더 힘들고 산업화되어있는데 저번에는 반죽에 쓴맛난다고 손소독제 들어가서 그런거 같다고 의심가는 사람에게 소독제 먹어보라고… https://t.co/OomL5wcAWT',\n",
       "  1),\n",
       " ('가방에 있어야 하는거\\n\\n분사형 소독제\\n젤형태 소독제\\n여분 마스크\\n소독 티슈\\n물티슈\\n미용티슈\\n거울\\n지갑\\n콘돔\\n수도승 사탕 50개',\n",
       "  1)]"
      ]
     },
     "execution_count": 4,
     "metadata": {},
     "output_type": "execute_result"
    }
   ],
   "source": [
    "from collections import Counter\n",
    "\n",
    "query = \"소독제\"\n",
    "statuses = twitter_api.GetSearch(term=query, count=100)\n",
    "\n",
    "result =[]\n",
    "\n",
    "for status in statuses:\n",
    "#    for tag in status:\n",
    "    result.append(status.text)\n",
    "    \n",
    "Counter(result).most_common(20)"
   ]
  },
  {
   "cell_type": "code",
   "execution_count": 18,
   "id": "1e0a665e",
   "metadata": {},
   "outputs": [
    {
     "data": {
      "text/plain": [
       "[('RT @Nein_Danke_: 병원성 감염체가 의사의 손을 통해 환자에게 전해질 수 있다는 사실을 최초로 증명해 산모들의 사망률을 획기적으로 갖춘 의사 제멜바이스는, 동료들에 의해 정신병원에 감금되어 경비원에게 구타당한 뒤 패혈증으로 사망했다.\\n\\nh…',\n",
       "  67),\n",
       " (\"RT @l_a4u: '오미크론 대응' 개량 백신, 오늘부터 접종…건강 취약계층 우선접종 (출처 : TV조선 | 네이버 뉴스) https://t.co/LcvVxme7Jv\\n질병관리청에 따르면 개량 백신의 우선접종 대상자는 면역저하자, 요양병원·시설 등…\",\n",
       "  18),\n",
       " ('RT @hobillera: 명동이 처음 데려왔던날\\n이불에 빨간 오줌이 묻을걸 보고\\n애기가 피오줌을 싼다고\\n길바닥에서 뭐 감염됐나보다고\\n엉엉 울면서 병원에 전화했는데\\n쌤이 원래 토끼는 소변 색이 붉습니다..\\n라고 해서 민망해서 전화기에 암말듀 못하고…',\n",
       "  5),\n",
       " ('RT @echungnam: 충청남도 코로나19 현황\\n(10월 12일 00시 기준)\\n\\n🔸확진 1,031명\\n🔸사망 1명\\n\\n🔹요양병원․시설 등 감염취약시설 방역조치 개편\\n- 면회:접촉 대면면회\\n- 외출‧외박:조건부\\u3000전면 허용\\n- 외부프로그램 : 전체 시설…',\n",
       "  1),\n",
       " ('충청남도 코로나19 현황\\n(10월 12일 00시 기준)\\n\\n🔸확진 1,031명\\n🔸사망 1명\\n\\n🔹요양병원․시설 등 감염취약시설 방역조치 개편\\n- 면회:접촉 대면면회\\n- 외출‧외박:조건부\\u3000전면 허용\\n- 외부프로그… https://t.co/P3oOy8pKuY',\n",
       "  1),\n",
       " ('10.응급실 이용 Tip 7 특히 다른 병원에서 어떤 감염으로 치료받던 중에 전원을 오시는 경우에는 꼬옥 어떤 항생제를 어떤 기간동안 사용했는지에 대한 정보가 필요합니다. 보내는 병원에서 사용한 항생제를 진… https://t.co/l8xmpXGiA4',\n",
       "  1),\n",
       " ('서울성모병원, 아토피피부염 환자의 감염성 피부질환 발병 위험 확인   https://t.co/Q2RUFHt1nl', 1),\n",
       " ('아니 윤라버니!!!!\\n다래끼땨매 사진이 안 예쁘게 나왓잔아요\\n글고 제때재때 병원에 가라고\\n안 조아진다고\\n다래끼 감염될 수 잇어서엿나 암튼 안 없어지며뉴병원 가랫는데 이 금쪽아',\n",
       "  1),\n",
       " ('RT @echungnam: 충청남도 코로나19 현황\\n(10월 11일 00시 기준)\\n\\n🔸확진 636명\\n🔸사망 1명\\n\\n🔹요양병원․시설 등 감염취약시설 방역조치 개편\\n- 면회:접촉 대면면회\\n- 외출‧외박:조건부\\u3000전면 허용\\n- 외부프로그램 : 전체 시설 허…',\n",
       "  1),\n",
       " ('RT @seoulite_henry: 펌:김미경교수 성균관대 교수기 때문에 삼성병원 감염내과 교수중 친분 두터운 백경란교수를 질청장 세운것 자체 지금 정책실패로 나오는 것-백경란 교수=감염내과 전문의가 거의 그렇듯이 코로나 백신 신봉론자-그녀가 안철수…',\n",
       "  1),\n",
       " ('충청남도 코로나19 현황\\n(10월 11일 00시 기준)\\n\\n🔸확진 636명\\n🔸사망 1명\\n\\n🔹요양병원․시설 등 감염취약시설 방역조치 개편\\n- 면회:접촉 대면면회\\n- 외출‧외박:조건부\\u3000전면 허용\\n- 외부프로그램… https://t.co/aYPFwQjaHb',\n",
       "  1),\n",
       " (\"'오미크론 대응' 개량 백신, 오늘부터 접종…건강 취약계층 우선접종 (출처 : TV조선 | 네이버 뉴스) https://t.co/LcvVxme7Jv\\n질병관리청에 따르면 개량 백신의 우선접종 대상자는 면역저하… https://t.co/qqSlL4DYLn\",\n",
       "  1),\n",
       " ('@bbwnims 상태보니까 이미 감염되셨어요. 염증심해보이시니 병원다니셔야합니다 ㅜㅜ 얼른나으세요', 1)]"
      ]
     },
     "execution_count": 18,
     "metadata": {},
     "output_type": "execute_result"
    }
   ],
   "source": [
    "query = \"병원감염\"\n",
    "statuses = twitter_api.GetSearch(term=query, count=1000)\n",
    "\n",
    "result2 =[]\n",
    "\n",
    "for status in statuses:\n",
    "#    for tag in status:\n",
    "    result2.append(status.text)\n",
    "    \n",
    "Counter(result2).most_common(20)"
   ]
  },
  {
   "cell_type": "code",
   "execution_count": 19,
   "id": "2befb247",
   "metadata": {},
   "outputs": [],
   "source": [
    "import pandas as pd\n",
    "import numpy as np"
   ]
  },
  {
   "cell_type": "code",
   "execution_count": 20,
   "id": "da1481fc",
   "metadata": {},
   "outputs": [],
   "source": [
    "ds_tweets = pd.DataFrame(result2)"
   ]
  },
  {
   "cell_type": "code",
   "execution_count": 16,
   "id": "7396f886",
   "metadata": {},
   "outputs": [
    {
     "ename": "InvalidIndexError",
     "evalue": "(slice(None, None, None), slice(None, None, None))",
     "output_type": "error",
     "traceback": [
      "\u001b[0;31m---------------------------------------------------------------------------\u001b[0m",
      "\u001b[0;31mInvalidIndexError\u001b[0m                         Traceback (most recent call last)",
      "Input \u001b[0;32mIn [16]\u001b[0m, in \u001b[0;36m<cell line: 1>\u001b[0;34m()\u001b[0m\n\u001b[0;32m----> 1\u001b[0m disinfect \u001b[38;5;241m=\u001b[39m \u001b[43mds_tweets\u001b[49m\u001b[43m[\u001b[49m\u001b[43m:\u001b[49m\u001b[43m,\u001b[49m\u001b[43m:\u001b[49m\u001b[43m]\u001b[49m\u001b[38;5;241m.\u001b[39mstr\u001b[38;5;241m.\u001b[39mcontains(\u001b[38;5;124m'\u001b[39m\u001b[38;5;124m소독제\u001b[39m\u001b[38;5;124m'\u001b[39m, case\u001b[38;5;241m=\u001b[39m\u001b[38;5;28;01mFalse\u001b[39;00m)\n\u001b[1;32m      2\u001b[0m disinfect\u001b[38;5;241m.\u001b[39mhead()\n",
      "File \u001b[0;32m~/anaconda3/envs/py39_7/lib/python3.9/site-packages/pandas/core/frame.py:3505\u001b[0m, in \u001b[0;36mDataFrame.__getitem__\u001b[0;34m(self, key)\u001b[0m\n\u001b[1;32m   3503\u001b[0m \u001b[38;5;28;01mif\u001b[39;00m \u001b[38;5;28mself\u001b[39m\u001b[38;5;241m.\u001b[39mcolumns\u001b[38;5;241m.\u001b[39mnlevels \u001b[38;5;241m>\u001b[39m \u001b[38;5;241m1\u001b[39m:\n\u001b[1;32m   3504\u001b[0m     \u001b[38;5;28;01mreturn\u001b[39;00m \u001b[38;5;28mself\u001b[39m\u001b[38;5;241m.\u001b[39m_getitem_multilevel(key)\n\u001b[0;32m-> 3505\u001b[0m indexer \u001b[38;5;241m=\u001b[39m \u001b[38;5;28;43mself\u001b[39;49m\u001b[38;5;241;43m.\u001b[39;49m\u001b[43mcolumns\u001b[49m\u001b[38;5;241;43m.\u001b[39;49m\u001b[43mget_loc\u001b[49m\u001b[43m(\u001b[49m\u001b[43mkey\u001b[49m\u001b[43m)\u001b[49m\n\u001b[1;32m   3506\u001b[0m \u001b[38;5;28;01mif\u001b[39;00m is_integer(indexer):\n\u001b[1;32m   3507\u001b[0m     indexer \u001b[38;5;241m=\u001b[39m [indexer]\n",
      "File \u001b[0;32m~/anaconda3/envs/py39_7/lib/python3.9/site-packages/pandas/core/indexes/range.py:388\u001b[0m, in \u001b[0;36mRangeIndex.get_loc\u001b[0;34m(self, key, method, tolerance)\u001b[0m\n\u001b[1;32m    386\u001b[0m         \u001b[38;5;28;01mexcept\u001b[39;00m \u001b[38;5;167;01mValueError\u001b[39;00m \u001b[38;5;28;01mas\u001b[39;00m err:\n\u001b[1;32m    387\u001b[0m             \u001b[38;5;28;01mraise\u001b[39;00m \u001b[38;5;167;01mKeyError\u001b[39;00m(key) \u001b[38;5;28;01mfrom\u001b[39;00m \u001b[38;5;21;01merr\u001b[39;00m\n\u001b[0;32m--> 388\u001b[0m     \u001b[38;5;28;43mself\u001b[39;49m\u001b[38;5;241;43m.\u001b[39;49m\u001b[43m_check_indexing_error\u001b[49m\u001b[43m(\u001b[49m\u001b[43mkey\u001b[49m\u001b[43m)\u001b[49m\n\u001b[1;32m    389\u001b[0m     \u001b[38;5;28;01mraise\u001b[39;00m \u001b[38;5;167;01mKeyError\u001b[39;00m(key)\n\u001b[1;32m    390\u001b[0m \u001b[38;5;28;01mreturn\u001b[39;00m \u001b[38;5;28msuper\u001b[39m()\u001b[38;5;241m.\u001b[39mget_loc(key, method\u001b[38;5;241m=\u001b[39mmethod, tolerance\u001b[38;5;241m=\u001b[39mtolerance)\n",
      "File \u001b[0;32m~/anaconda3/envs/py39_7/lib/python3.9/site-packages/pandas/core/indexes/base.py:5637\u001b[0m, in \u001b[0;36mIndex._check_indexing_error\u001b[0;34m(self, key)\u001b[0m\n\u001b[1;32m   5633\u001b[0m \u001b[38;5;28;01mdef\u001b[39;00m \u001b[38;5;21m_check_indexing_error\u001b[39m(\u001b[38;5;28mself\u001b[39m, key):\n\u001b[1;32m   5634\u001b[0m     \u001b[38;5;28;01mif\u001b[39;00m \u001b[38;5;129;01mnot\u001b[39;00m is_scalar(key):\n\u001b[1;32m   5635\u001b[0m         \u001b[38;5;66;03m# if key is not a scalar, directly raise an error (the code below\u001b[39;00m\n\u001b[1;32m   5636\u001b[0m         \u001b[38;5;66;03m# would convert to numpy arrays and raise later any way) - GH29926\u001b[39;00m\n\u001b[0;32m-> 5637\u001b[0m         \u001b[38;5;28;01mraise\u001b[39;00m InvalidIndexError(key)\n",
      "\u001b[0;31mInvalidIndexError\u001b[0m: (slice(None, None, None), slice(None, None, None))"
     ]
    }
   ],
   "source": [
    "disinfect = ds_tweets.str.contains('소독제', case=False)\n",
    "disinfect.head()"
   ]
  },
  {
   "cell_type": "code",
   "execution_count": 21,
   "id": "8dc7bbf7",
   "metadata": {},
   "outputs": [
    {
     "name": "stdout",
     "output_type": "stream",
     "text": [
      "(100, 1)\n"
     ]
    },
    {
     "data": {
      "text/html": [
       "<div>\n",
       "<style scoped>\n",
       "    .dataframe tbody tr th:only-of-type {\n",
       "        vertical-align: middle;\n",
       "    }\n",
       "\n",
       "    .dataframe tbody tr th {\n",
       "        vertical-align: top;\n",
       "    }\n",
       "\n",
       "    .dataframe thead th {\n",
       "        text-align: right;\n",
       "    }\n",
       "</style>\n",
       "<table border=\"1\" class=\"dataframe\">\n",
       "  <thead>\n",
       "    <tr style=\"text-align: right;\">\n",
       "      <th></th>\n",
       "      <th>0</th>\n",
       "    </tr>\n",
       "  </thead>\n",
       "  <tbody>\n",
       "    <tr>\n",
       "      <th>0</th>\n",
       "      <td>RT @echungnam: 충청남도 코로나19 현황\\n(10월 12일 00시 기준)...</td>\n",
       "    </tr>\n",
       "    <tr>\n",
       "      <th>1</th>\n",
       "      <td>충청남도 코로나19 현황\\n(10월 12일 00시 기준)\\n\\n🔸확진 1,031명\\...</td>\n",
       "    </tr>\n",
       "    <tr>\n",
       "      <th>2</th>\n",
       "      <td>RT @Nein_Danke_: 병원성 감염체가 의사의 손을 통해 환자에게 전해질 수...</td>\n",
       "    </tr>\n",
       "    <tr>\n",
       "      <th>3</th>\n",
       "      <td>10.응급실 이용 Tip 7 특히 다른 병원에서 어떤 감염으로 치료받던 중에 전원을...</td>\n",
       "    </tr>\n",
       "    <tr>\n",
       "      <th>4</th>\n",
       "      <td>RT @Nein_Danke_: 병원성 감염체가 의사의 손을 통해 환자에게 전해질 수...</td>\n",
       "    </tr>\n",
       "  </tbody>\n",
       "</table>\n",
       "</div>"
      ],
      "text/plain": [
       "                                                   0\n",
       "0  RT @echungnam: 충청남도 코로나19 현황\\n(10월 12일 00시 기준)...\n",
       "1  충청남도 코로나19 현황\\n(10월 12일 00시 기준)\\n\\n🔸확진 1,031명\\...\n",
       "2  RT @Nein_Danke_: 병원성 감염체가 의사의 손을 통해 환자에게 전해질 수...\n",
       "3  10.응급실 이용 Tip 7 특히 다른 병원에서 어떤 감염으로 치료받던 중에 전원을...\n",
       "4  RT @Nein_Danke_: 병원성 감염체가 의사의 손을 통해 환자에게 전해질 수..."
      ]
     },
     "execution_count": 21,
     "metadata": {},
     "output_type": "execute_result"
    }
   ],
   "source": [
    "print(ds_tweets.shape)\n",
    "ds_tweets.head()"
   ]
  },
  {
   "cell_type": "code",
   "execution_count": null,
   "id": "7b3406a1",
   "metadata": {},
   "outputs": [],
   "source": []
  }
 ],
 "metadata": {
  "kernelspec": {
   "display_name": "py39_7",
   "language": "python",
   "name": "py39_7"
  },
  "language_info": {
   "codemirror_mode": {
    "name": "ipython",
    "version": 3
   },
   "file_extension": ".py",
   "mimetype": "text/x-python",
   "name": "python",
   "nbconvert_exporter": "python",
   "pygments_lexer": "ipython3",
   "version": "3.9.7"
  }
 },
 "nbformat": 4,
 "nbformat_minor": 5
}
