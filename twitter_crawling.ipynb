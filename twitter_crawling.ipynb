{
 "cells": [
  {
   "cell_type": "code",
   "execution_count": 1,
   "id": "b8ec88d8",
   "metadata": {},
   "outputs": [],
   "source": [
    "consumer_key = \"vVG6WEYcbTdXvPmusUvpzH3sE\"\n",
    "consumer_secret = \"ChrmklHwJfeeWXKu1Wi5DHdHJF839QxaTA4zDvEk7HRffcuEcj\"\n",
    "access_token = \"1838120562-5rDNXh1mOoW2Zq8l2eUX4oAillgz1IcgkOGuiVt\"\n",
    "access_token_secret = \"64sRs49h7EtptXYS9fvMsmBZcdbOFUxX1WJZSLhqKTSBe\""
   ]
  },
  {
   "cell_type": "code",
   "execution_count": 2,
   "id": "8b98e4eb",
   "metadata": {},
   "outputs": [],
   "source": [
    "import twitter"
   ]
  },
  {
   "cell_type": "code",
   "execution_count": 3,
   "id": "56234182",
   "metadata": {},
   "outputs": [],
   "source": [
    "twitter_api = twitter.Api(consumer_key = consumer_key,\n",
    "                          consumer_secret = consumer_secret, \n",
    "                          access_token_key = access_token, \n",
    "                          access_token_secret = access_token_secret)"
   ]
  },
  {
   "cell_type": "code",
   "execution_count": 4,
   "id": "8d7d808a",
   "metadata": {},
   "outputs": [
    {
     "data": {
      "text/plain": [
       "[('RT @324_922528: 나연이 카페가서 시럽을 손 소독제로 착각한 게 두번째인거얔ㅋㅋㅋㅋㅋ 2016년에는 채영이가 2022년에는 정연이가 목격한거네ㅋㅋㅋㅋㅋㅋㅋㅋㅋㅋ',\n",
       "  18),\n",
       " ('RT @zzangdoling: 아 이거 웃기다\\n설정 상 오른쪽 분 흡연ing 중이신 건데\\n지금 왼쪽 분 소독제 분사ing\\n둘이 붙어있어도 되는 거임?\\n둘이 붙어있는 거 약간 자까님 캐붕? https://t.co/cAbb6R1AuT',\n",
       "  15),\n",
       " ('RT @alljobduck: 한남 성관계권 보장하려고 여자가 손세정제보다 독한 소독제로 질 닦아버리고, 한남 성관계 좋게한다고 소음순 대음순 수술하고 나이들어서 질조임(웩)안좋다고 시술하고&lt;-한국 얘기입니다. 한국은 여성의 질에도 성형하는 나라에요.…',\n",
       "  14),\n",
       " (\"RT @CTjangmi: 받았다앙♡\\n섹시파가 꼭 들고 다녀야하는 소독제!!!!!\\n\\nGlobal Itboy Jimin's song #WithYou by #BTSJIMIN #JIMIN of #BTS (@BTS_twt) https://t.co/39WmMu…\",\n",
       "  11),\n",
       " ('RT @_jjisland_: 221001🌪\\n\\n소독제😈\\n\\n#미래소년 #MIRAE #박시영 #시영 #SIYOUNG #PARKSIYOUNG #シヨン https://t.co/fjAiqIWBOb',\n",
       "  2),\n",
       " (\"얘들아...우리\\n소독약이라는게 현대에 있다는것\\n꽤 싸다는걸 생각하자.\\n\\n단순한 세균감염증으로 인해 발생하는 통증이나 염증은 어지간한 소독제로 나을수있다는 점.\\n(알코올은 1차원적인 소독에 불과해서 '통증'을… https://t.co/kFMF4By2Gk\",\n",
       "  1),\n",
       " ('더러운 알페서라 할까봐 손도 닦고 소독제도 하고 폰도 알콜스왑으로 닦고 알페스함', 1),\n",
       " ('안그래도 실험할때 쓰는 유기용매나 생활용 소독제들 냄새 개구려서 싫어하는데..', 1),\n",
       " ('(살균 마도기기와 소독제를 문앞에 둔다) 역병이지. 퇴치해야할', 1),\n",
       " ('디젤페인팅\\n제주연동호텔\\n시바이누\\n해설서\\n장마코디\\n파스쿠찌시실리점\\n명이나물장아찌\\n헥터\\n유비맘빨대컵공구\\n부케말리기전문\\n버리지말고끝까지책임져주세요\\n6월의다이어리\\n자양동중국어\\n언제나소름돋는최정홈런\\n조이풀정글짐\\n소독… https://t.co/Y6Jqb0XIu7',\n",
       "  1),\n",
       " ('“서가 사이를 지나다니다 보면 염소 냄새가 나는 것도 같아. 수영장 물 소독제 냄새 말이야.”\\n\\n“그렇구나.”\\n\\n“...그런 거야. 사람들이 1년짜리 로얄 프리미엄 구독권에 만족하고, 계속 팝업 광고로 뒤덮인 세상에서 살기로 하는 거 말이야.',\n",
       "  1),\n",
       " ('확진 받기 전날이랑 확진판정 받고 나서 그거 합치면 거의 5일동안 아픔...침대에서 누워 지냈으니까..밖에는 못나가지..가족들 피해 덜 입히려고 내가 마스크 쓰고 장갑끼고 소독제랑 알코올 소독을..',\n",
       "  1),\n",
       " ('농약보다 과산화수소수 살포는 뱀과 지네가 한꺼번에 멸종하게 된다카는대요\\n하나님왈이라서 증명할 수 없네 별로네\\n동네약국에서 파는 옷에 뿌려지면 세탁한 것 같이 빛이 나고 따끔거리는\\n과산화수소수는 소독제라서 부… https://t.co/xEfjvRWFyi',\n",
       "  1),\n",
       " ('소독제를 몸에 주입하면 모든 세균이랑 바이러스가 소독되어서 병이 치료될 거에요!!', 1),\n",
       " ('우주 수갑로그 어케그림..?\\n아무리 생각해도 수갑에 소독제 뿌리는거밖에 생각안남', 1),\n",
       " ('대마 하나 물고 위쪽 허벅지 동여맨 다음에 총알 빼고 소독제 들이 붓고 지혈하고 그러는 거 보고싶어...신음 하나 안 내는데 팔이랑 목에 핏대 성성하게 서 잇음...',\n",
       "  1),\n",
       " ('🌑\\n야외소독제 구례군구인구직 하돈군 #야구 \\n#건오 https://t.co/zFPOENgH5T', 1),\n",
       " ('RT @GAmeoggi: 빨간줄없애주는소독제 https://t.co/5izurJLS1b', 1),\n",
       " ('@ryua_1999 손에 세균많은데..소독제 뿌리자 (칙칙)', 1),\n",
       " ('@HBy2aw8 속으로는 둘다 그\\n죽어요\\n죽어주신다구요? \\n그 표정일텐데 아델 언제 올지 모르니까 이 악물고 웃을거 같고ㅋㅋㅋㅋㅋ\\n\\n🌸:아델이 오면 데리고 나가야겠네요^^\\n그럼 즐겁게 혼자 남으세요\\n\\n노래… https://t.co/hh2I7LEbwA',\n",
       "  1)]"
      ]
     },
     "execution_count": 4,
     "metadata": {},
     "output_type": "execute_result"
    }
   ],
   "source": [
    "from collections import Counter\n",
    "\n",
    "query = \"소독제\"\n",
    "statuses = twitter_api.GetSearch(term=query, count=100)\n",
    "\n",
    "result =[]\n",
    "\n",
    "for status in statuses:\n",
    "#    for tag in status:\n",
    "    result.append(status.text)\n",
    "    \n",
    "Counter(result).most_common(20)"
   ]
  },
  {
   "cell_type": "code",
   "execution_count": 16,
   "id": "1e0a665e",
   "metadata": {},
   "outputs": [
    {
     "data": {
      "text/plain": [
       "[('RT @jijijikjijik: 이걸 미러링이랍시고 하는 꼴이 우스운게 열차에 권력자 얼굴 합성한거에 열폭하다보니 시민들에게 달려드는 윤석열차와 다르게 문재열차는 이명박근혜전두환을 향해 폭주하는 걸로 그려 놔 버렸네? 이러면 의도와 반대로 문재열차는…',\n",
       "  16),\n",
       " (\"RT @baxter005: '윤석열차' 외압논란에 대한 전국시사만화협회의 성명서 https://t.co/A3K1MPMabO\", 11),\n",
       " ('RT @naanangnaang: 윤석열차 그림 학생 학교의 교감이랑 인터뷰 했네. 다행히 교감이 상식있는 분.\\n\\n이 학교의 B교감은 5일 &lt;오마이뉴스&gt;와 통화에서 \"카툰을 그린 학생이 마음을 굳게 먹고 있다\"며 \"나중에 커서 이 일이 트라우마로 남으…',\n",
       "  8),\n",
       " ('RT @JTBC_news: 한동훈, \\'윤석열차\\' 그림에 \"제가 심사위원이면 상 안 줬을 것\"\\nhttps://t.co/umm0kCwtGB',\n",
       "  8),\n",
       " (\"RT @songjung1209: 윤석열차, '웹툰협회' 입장문 https://t.co/2WmrUBGDww\", 6),\n",
       " ('RT @butdowrong: 정부가 윤석열차 그리기대회가 열렸음을 선포했습니다.', 5),\n",
       " ('RT @ia7h6eGzFoshms0: 출근길에 윤석열차에 대해서 어떻게 생각하냐는 질문에 대답할게 없다가 얼마나 옹졸한 답변이냐면, 보통 어른이었어도 \"허허, 제 부족함이지요\"나 \"문체부에 지시해보겠습니다\" 가 상식적이거든.. 할말없다 쌩~ 이 뭐겠…',\n",
       "  5),\n",
       " ('RT @TangTan08793028: 윤석열차 물타기하려는 좆무위키 대똥꼬쇼 https://t.co/Bhu6LUu4fb', 5),\n",
       " ('RT @nicheinmo: \\'윤석열차\\' 작품으로 금상을 받은 학생이 재학 중인 A고등학교에 욕설 전화가 걸려오고 있는 것으로 확인됐다\\n\\n하지만 이 학교의 B교감은 \"카툰을 그린 학생이 마음을 굳게 먹고 있다\"며\\n\\n\"나중에 커서 이 일이 트라우마로 남…',\n",
       "  3),\n",
       " ('RT @0Cv0nn: 물타기 진짜...그래서 기안84를 문체부에서 조사라도 했냐? 뭐 만화진흥원 예산 깎는다 협박 했어?ㅋㅋㅋ윤석열차 그림보고 일반 시민들이 이렇다 저렇다 하는건 당연히 자윤데 그걸 정부에서 뭐라하니까 검열이니 뭐니 이야기 나오는건디…',\n",
       "  3),\n",
       " ('RT @OSR012: 국가지도자란 매순간 일거수일투족을 조심해야하는 자리. 지난 대선 이재명 윤석열을 보며 아이들은 무슨 생각을 했을까?\\n\\n&lt;‘윤석열차’ 그린 이유 “지난 대선 기간에 윤 대통령이 열차 안에서 신발을 벗지 않고 의자에 발을 올린 일이…',\n",
       "  2),\n",
       " ('RT @amnseoul: [포토] \\'천공열차\\'까지 나온 \\'윤석열차\\' 엄중경고 패러디 만발 https://t.co/E8EGYcG0i7\\n\"그 엄중경고 정부에 되돌려드립니다\"..\"만화의 가장 큰 기능이 비판과 풍자, 행사 취지에 정확히 부합하는 작품 아닌…',\n",
       "  2),\n",
       " ('RT @ddanzis: [딴지만평]진짜 윤석열차\\n\\nhttps://t.co/VAvWOPDlrA\\n\\n#딴지 #딴지만평 #윤석열 #대통령 #청와대 #용산 #비용 #윤석열차 https://t.co/5TejyAZJzO',\n",
       "  2),\n",
       " ('RT @jji82407482: 요즘 논란되는 윤석열차에 관한 한동훈 생각..\\n더할나위없이 깔끔한 답변👍 https://t.co/aI4uvqmCl3',\n",
       "  2),\n",
       " ('RT @chinchinchllee: 윤석열차 https://t.co/wLmNoTxRjk', 2),\n",
       " ('[단독] \"\\'윤석열차\\' 아이디어, 좌석에 발 올린 모습에서 착안\"  #윤석열차 #카툰 https://t.co/R3wUupNZ3P 윤근혁 기자',\n",
       "  1),\n",
       " ('문화예술인들 “문체부는 ‘윤석열차’ 검열 정당화 멈추고, 피해 학생에 사과하라”@newsvop https://t.co/SwnXr6OuiT',\n",
       "  1),\n",
       " (\"만화계 대표 단체들의 성명이 이어지는 등 '윤석열차'발 '표현의 자유' 논란은 거세질 전망입니다.\\nhttps://t.co/7hR8dRuh05\",\n",
       "  1),\n",
       " (\"RT @mbcnews: 만화계 대표 단체들의 성명이 이어지는 등 '윤석열차'발 '표현의 자유' 논란은 거세질 전망입니다.\\nhttps://t.co/7hR8dRuh05\",\n",
       "  1),\n",
       " ('바보야 윤석열차에 상을 주고 살아있는 권력을 수사해야 니가 대통령이 되지! 형님 하는 거 못 봤냐 그러니까 너는 안되는 거야 https://t.co/t5pA4YqdnL',\n",
       "  1)]"
      ]
     },
     "execution_count": 16,
     "metadata": {},
     "output_type": "execute_result"
    }
   ],
   "source": [
    "query = \"윤석열차\"\n",
    "statuses = twitter_api.GetSearch(term=query, count=100)\n",
    "\n",
    "result2 =[]\n",
    "\n",
    "for status in statuses:\n",
    "#    for tag in status:\n",
    "    result2.append(status.text)\n",
    "    \n",
    "Counter(result2).most_common(20)"
   ]
  },
  {
   "cell_type": "code",
   "execution_count": null,
   "id": "2befb247",
   "metadata": {},
   "outputs": [],
   "source": []
  }
 ],
 "metadata": {
  "kernelspec": {
   "display_name": "py39_7",
   "language": "python",
   "name": "py39_7"
  },
  "language_info": {
   "codemirror_mode": {
    "name": "ipython",
    "version": 3
   },
   "file_extension": ".py",
   "mimetype": "text/x-python",
   "name": "python",
   "nbconvert_exporter": "python",
   "pygments_lexer": "ipython3",
   "version": "3.9.7"
  }
 },
 "nbformat": 4,
 "nbformat_minor": 5
}
