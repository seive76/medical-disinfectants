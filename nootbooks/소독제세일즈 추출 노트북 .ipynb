{
 "cells": [
  {
   "cell_type": "code",
   "execution_count": 1,
   "id": "a9e82a52",
   "metadata": {},
   "outputs": [],
   "source": [
    "import pandas as pd\n",
    "import numpy as np\n",
    "import matplotlib as plt"
   ]
  },
  {
   "cell_type": "code",
   "execution_count": 2,
   "id": "226528f5",
   "metadata": {},
   "outputs": [],
   "source": [
    "sales = pd.read_csv(\"sales/mergedSales.csv\")\n",
    "# products = pd.read_csv(\"disin_basic/disinfectants.csv\")"
   ]
  },
  {
   "cell_type": "code",
   "execution_count": 3,
   "id": "7c92b284",
   "metadata": {},
   "outputs": [
    {
     "name": "stdout",
     "output_type": "stream",
     "text": [
      "(10766, 7)\n"
     ]
    },
    {
     "data": {
      "text/html": [
       "<div>\n",
       "<style scoped>\n",
       "    .dataframe tbody tr th:only-of-type {\n",
       "        vertical-align: middle;\n",
       "    }\n",
       "\n",
       "    .dataframe tbody tr th {\n",
       "        vertical-align: top;\n",
       "    }\n",
       "\n",
       "    .dataframe thead th {\n",
       "        text-align: right;\n",
       "    }\n",
       "</style>\n",
       "<table border=\"1\" class=\"dataframe\">\n",
       "  <thead>\n",
       "    <tr style=\"text-align: right;\">\n",
       "      <th></th>\n",
       "      <th>Unnamed: 0</th>\n",
       "      <th>전문/일반</th>\n",
       "      <th>품명</th>\n",
       "      <th>국가</th>\n",
       "      <th>포장단위</th>\n",
       "      <th>금액(USD)</th>\n",
       "      <th>year</th>\n",
       "    </tr>\n",
       "  </thead>\n",
       "  <tbody>\n",
       "    <tr>\n",
       "      <th>0</th>\n",
       "      <td>0</td>\n",
       "      <td>전문</td>\n",
       "      <td>새한크롬이디티에이주사</td>\n",
       "      <td>U.K</td>\n",
       "      <td>10ML(1MCI=37MBQ)/VIAL</td>\n",
       "      <td>26,224</td>\n",
       "      <td>2017</td>\n",
       "    </tr>\n",
       "    <tr>\n",
       "      <th>1</th>\n",
       "      <td>1</td>\n",
       "      <td>전문</td>\n",
       "      <td>아도스테롤(131I)주사액</td>\n",
       "      <td>JAPAN</td>\n",
       "      <td>1ML(37MBQ)/VIAL</td>\n",
       "      <td>591</td>\n",
       "      <td>2017</td>\n",
       "    </tr>\n",
       "    <tr>\n",
       "      <th>2</th>\n",
       "      <td>2</td>\n",
       "      <td>전문</td>\n",
       "      <td>5-에이치티피캅셀</td>\n",
       "      <td>TAIWAN</td>\n",
       "      <td>50CAP/BOTTLE</td>\n",
       "      <td>14,000</td>\n",
       "      <td>2017</td>\n",
       "    </tr>\n",
       "  </tbody>\n",
       "</table>\n",
       "</div>"
      ],
      "text/plain": [
       "   Unnamed: 0 전문/일반              품명      국가                   포장단위    금액(USD)  \\\n",
       "0           0    전문     새한크롬이디티에이주사     U.K  10ML(1MCI=37MBQ)/VIAL    26,224    \n",
       "1           1    전문  아도스테롤(131I)주사액   JAPAN        1ML(37MBQ)/VIAL       591    \n",
       "2           2    전문       5-에이치티피캅셀  TAIWAN           50CAP/BOTTLE    14,000    \n",
       "\n",
       "   year  \n",
       "0  2017  \n",
       "1  2017  \n",
       "2  2017  "
      ]
     },
     "execution_count": 3,
     "metadata": {},
     "output_type": "execute_result"
    }
   ],
   "source": [
    "print(sales.shape)\n",
    "sales.head(3)"
   ]
  },
  {
   "cell_type": "code",
   "execution_count": 4,
   "id": "3d4c0fb7",
   "metadata": {},
   "outputs": [
    {
     "data": {
      "text/plain": [
       "Index(['Unnamed: 0', '전문/일반', '품명', '국가', '포장단위', ' 금액(USD)', 'year'], dtype='object')"
      ]
     },
     "execution_count": 4,
     "metadata": {},
     "output_type": "execute_result"
    }
   ],
   "source": [
    "sales.columns"
   ]
  },
  {
   "cell_type": "code",
   "execution_count": 5,
   "id": "421f77be",
   "metadata": {},
   "outputs": [],
   "source": [
    "sales.rename(columns={' 금액(USD)':'sales', '품명':'품목명'}, inplace=True)"
   ]
  },
  {
   "cell_type": "code",
   "execution_count": 6,
   "id": "2d167ad0",
   "metadata": {},
   "outputs": [
    {
     "data": {
      "text/html": [
       "<div>\n",
       "<style scoped>\n",
       "    .dataframe tbody tr th:only-of-type {\n",
       "        vertical-align: middle;\n",
       "    }\n",
       "\n",
       "    .dataframe tbody tr th {\n",
       "        vertical-align: top;\n",
       "    }\n",
       "\n",
       "    .dataframe thead th {\n",
       "        text-align: right;\n",
       "    }\n",
       "</style>\n",
       "<table border=\"1\" class=\"dataframe\">\n",
       "  <thead>\n",
       "    <tr style=\"text-align: right;\">\n",
       "      <th></th>\n",
       "      <th>전문/일반</th>\n",
       "      <th>품목명</th>\n",
       "      <th>국가</th>\n",
       "      <th>포장단위</th>\n",
       "      <th>sales</th>\n",
       "      <th>year</th>\n",
       "    </tr>\n",
       "  </thead>\n",
       "  <tbody>\n",
       "    <tr>\n",
       "      <th>0</th>\n",
       "      <td>전문</td>\n",
       "      <td>새한크롬이디티에이주사</td>\n",
       "      <td>U.K</td>\n",
       "      <td>10ML(1MCI=37MBQ)/VIAL</td>\n",
       "      <td>26,224</td>\n",
       "      <td>2017</td>\n",
       "    </tr>\n",
       "    <tr>\n",
       "      <th>1</th>\n",
       "      <td>전문</td>\n",
       "      <td>아도스테롤(131I)주사액</td>\n",
       "      <td>JAPAN</td>\n",
       "      <td>1ML(37MBQ)/VIAL</td>\n",
       "      <td>591</td>\n",
       "      <td>2017</td>\n",
       "    </tr>\n",
       "    <tr>\n",
       "      <th>2</th>\n",
       "      <td>전문</td>\n",
       "      <td>5-에이치티피캅셀</td>\n",
       "      <td>TAIWAN</td>\n",
       "      <td>50CAP/BOTTLE</td>\n",
       "      <td>14,000</td>\n",
       "      <td>2017</td>\n",
       "    </tr>\n",
       "  </tbody>\n",
       "</table>\n",
       "</div>"
      ],
      "text/plain": [
       "  전문/일반             품목명      국가                   포장단위      sales  year\n",
       "0    전문     새한크롬이디티에이주사     U.K  10ML(1MCI=37MBQ)/VIAL    26,224   2017\n",
       "1    전문  아도스테롤(131I)주사액   JAPAN        1ML(37MBQ)/VIAL       591   2017\n",
       "2    전문       5-에이치티피캅셀  TAIWAN           50CAP/BOTTLE    14,000   2017"
      ]
     },
     "execution_count": 6,
     "metadata": {},
     "output_type": "execute_result"
    }
   ],
   "source": [
    "sales = sales[['전문/일반', '품목명', '국가', '포장단위', 'sales', 'year']]\n",
    "sales.head(3)"
   ]
  },
  {
   "cell_type": "code",
   "execution_count": 9,
   "id": "5e0489eb",
   "metadata": {},
   "outputs": [],
   "source": [
    "def to_int(price):\n",
    "    price = price.replace(',','')\n",
    "    price = price.replace('  - ','')\n",
    "    price = price.replace(' ','')\n",
    "    price = price.replace('-','')\n",
    "    # price = price.replace('0 0 02060202040 0', '0')\n",
    "    # price = price.replace('0 0 0509010 0','0')\n",
    "    # price = int(price)\n",
    "    return price"
   ]
  },
  {
   "cell_type": "code",
   "execution_count": 10,
   "id": "c925060d",
   "metadata": {},
   "outputs": [
    {
     "name": "stdout",
     "output_type": "stream",
     "text": [
      "(10766, 6)\n"
     ]
    },
    {
     "data": {
      "text/html": [
       "<div>\n",
       "<style scoped>\n",
       "    .dataframe tbody tr th:only-of-type {\n",
       "        vertical-align: middle;\n",
       "    }\n",
       "\n",
       "    .dataframe tbody tr th {\n",
       "        vertical-align: top;\n",
       "    }\n",
       "\n",
       "    .dataframe thead th {\n",
       "        text-align: right;\n",
       "    }\n",
       "</style>\n",
       "<table border=\"1\" class=\"dataframe\">\n",
       "  <thead>\n",
       "    <tr style=\"text-align: right;\">\n",
       "      <th></th>\n",
       "      <th>전문/일반</th>\n",
       "      <th>품목명</th>\n",
       "      <th>국가</th>\n",
       "      <th>포장단위</th>\n",
       "      <th>sales</th>\n",
       "      <th>year</th>\n",
       "    </tr>\n",
       "  </thead>\n",
       "  <tbody>\n",
       "    <tr>\n",
       "      <th>0</th>\n",
       "      <td>전문</td>\n",
       "      <td>새한크롬이디티에이주사</td>\n",
       "      <td>U.K</td>\n",
       "      <td>10ML(1MCI=37MBQ)/VIAL</td>\n",
       "      <td>26224</td>\n",
       "      <td>2017</td>\n",
       "    </tr>\n",
       "    <tr>\n",
       "      <th>1</th>\n",
       "      <td>전문</td>\n",
       "      <td>아도스테롤(131I)주사액</td>\n",
       "      <td>JAPAN</td>\n",
       "      <td>1ML(37MBQ)/VIAL</td>\n",
       "      <td>591</td>\n",
       "      <td>2017</td>\n",
       "    </tr>\n",
       "    <tr>\n",
       "      <th>2</th>\n",
       "      <td>전문</td>\n",
       "      <td>5-에이치티피캅셀</td>\n",
       "      <td>TAIWAN</td>\n",
       "      <td>50CAP/BOTTLE</td>\n",
       "      <td>14000</td>\n",
       "      <td>2017</td>\n",
       "    </tr>\n",
       "    <tr>\n",
       "      <th>3</th>\n",
       "      <td>전문</td>\n",
       "      <td>애보트가나톤정50밀리그램</td>\n",
       "      <td>JAPAN</td>\n",
       "      <td>1000TAB/BOTTLE</td>\n",
       "      <td>104871</td>\n",
       "      <td>2017</td>\n",
       "    </tr>\n",
       "    <tr>\n",
       "      <th>4</th>\n",
       "      <td>전문</td>\n",
       "      <td>애보트가나톤정50밀리그램</td>\n",
       "      <td>JAPAN</td>\n",
       "      <td>10TAB/10PTP/BOX</td>\n",
       "      <td>19889</td>\n",
       "      <td>2017</td>\n",
       "    </tr>\n",
       "  </tbody>\n",
       "</table>\n",
       "</div>"
      ],
      "text/plain": [
       "  전문/일반             품목명      국가                   포장단위   sales  year\n",
       "0    전문     새한크롬이디티에이주사     U.K  10ML(1MCI=37MBQ)/VIAL   26224  2017\n",
       "1    전문  아도스테롤(131I)주사액   JAPAN        1ML(37MBQ)/VIAL     591  2017\n",
       "2    전문       5-에이치티피캅셀  TAIWAN           50CAP/BOTTLE   14000  2017\n",
       "3    전문   애보트가나톤정50밀리그램   JAPAN         1000TAB/BOTTLE  104871  2017\n",
       "4    전문   애보트가나톤정50밀리그램   JAPAN        10TAB/10PTP/BOX   19889  2017"
      ]
     },
     "execution_count": 10,
     "metadata": {},
     "output_type": "execute_result"
    }
   ],
   "source": [
    "sales['sales'] = sales.sales.apply(to_int)\n",
    "print(sales.shape)\n",
    "sales.head()"
   ]
  },
  {
   "cell_type": "code",
   "execution_count": 12,
   "id": "87d543ad",
   "metadata": {},
   "outputs": [
    {
     "name": "stdout",
     "output_type": "stream",
     "text": [
      "<class 'pandas.core.frame.DataFrame'>\n",
      "RangeIndex: 10766 entries, 0 to 10765\n",
      "Data columns (total 6 columns):\n",
      " #   Column  Non-Null Count  Dtype \n",
      "---  ------  --------------  ----- \n",
      " 0   전문/일반   10766 non-null  object\n",
      " 1   품목명     10764 non-null  object\n",
      " 2   국가      10764 non-null  object\n",
      " 3   포장단위    10764 non-null  object\n",
      " 4   sales   10766 non-null  object\n",
      " 5   year    10766 non-null  int64 \n",
      "dtypes: int64(1), object(5)\n",
      "memory usage: 504.8+ KB\n"
     ]
    }
   ],
   "source": [
    "sales.info()"
   ]
  },
  {
   "cell_type": "code",
   "execution_count": 13,
   "id": "832beeb8",
   "metadata": {},
   "outputs": [
    {
     "data": {
      "text/html": [
       "<div>\n",
       "<style scoped>\n",
       "    .dataframe tbody tr th:only-of-type {\n",
       "        vertical-align: middle;\n",
       "    }\n",
       "\n",
       "    .dataframe tbody tr th {\n",
       "        vertical-align: top;\n",
       "    }\n",
       "\n",
       "    .dataframe thead th {\n",
       "        text-align: right;\n",
       "    }\n",
       "</style>\n",
       "<table border=\"1\" class=\"dataframe\">\n",
       "  <thead>\n",
       "    <tr style=\"text-align: right;\">\n",
       "      <th></th>\n",
       "      <th>전문/일반</th>\n",
       "      <th>품목명</th>\n",
       "      <th>국가</th>\n",
       "      <th>포장단위</th>\n",
       "      <th>sales</th>\n",
       "      <th>year</th>\n",
       "    </tr>\n",
       "  </thead>\n",
       "  <tbody>\n",
       "    <tr>\n",
       "      <th>0</th>\n",
       "      <td>전문</td>\n",
       "      <td>새한크롬이디티에이주사</td>\n",
       "      <td>U.K</td>\n",
       "      <td>10ML(1MCI=37MBQ)/VIAL</td>\n",
       "      <td>26224</td>\n",
       "      <td>2017</td>\n",
       "    </tr>\n",
       "    <tr>\n",
       "      <th>1</th>\n",
       "      <td>전문</td>\n",
       "      <td>아도스테롤(131I)주사액</td>\n",
       "      <td>JAPAN</td>\n",
       "      <td>1ML(37MBQ)/VIAL</td>\n",
       "      <td>591</td>\n",
       "      <td>2017</td>\n",
       "    </tr>\n",
       "    <tr>\n",
       "      <th>2</th>\n",
       "      <td>전문</td>\n",
       "      <td>5-에이치티피캅셀</td>\n",
       "      <td>TAIWAN</td>\n",
       "      <td>50CAP/BOTTLE</td>\n",
       "      <td>14000</td>\n",
       "      <td>2017</td>\n",
       "    </tr>\n",
       "    <tr>\n",
       "      <th>3</th>\n",
       "      <td>전문</td>\n",
       "      <td>애보트가나톤정50밀리그램</td>\n",
       "      <td>JAPAN</td>\n",
       "      <td>1000TAB/BOTTLE</td>\n",
       "      <td>104871</td>\n",
       "      <td>2017</td>\n",
       "    </tr>\n",
       "    <tr>\n",
       "      <th>4</th>\n",
       "      <td>전문</td>\n",
       "      <td>애보트가나톤정50밀리그램</td>\n",
       "      <td>JAPAN</td>\n",
       "      <td>10TAB/10PTP/BOX</td>\n",
       "      <td>19889</td>\n",
       "      <td>2017</td>\n",
       "    </tr>\n",
       "  </tbody>\n",
       "</table>\n",
       "</div>"
      ],
      "text/plain": [
       "  전문/일반             품목명      국가                   포장단위   sales  year\n",
       "0    전문     새한크롬이디티에이주사     U.K  10ML(1MCI=37MBQ)/VIAL   26224  2017\n",
       "1    전문  아도스테롤(131I)주사액   JAPAN        1ML(37MBQ)/VIAL     591  2017\n",
       "2    전문       5-에이치티피캅셀  TAIWAN           50CAP/BOTTLE   14000  2017\n",
       "3    전문   애보트가나톤정50밀리그램   JAPAN         1000TAB/BOTTLE  104871  2017\n",
       "4    전문   애보트가나톤정50밀리그램   JAPAN        10TAB/10PTP/BOX   19889  2017"
      ]
     },
     "execution_count": 13,
     "metadata": {},
     "output_type": "execute_result"
    }
   ],
   "source": [
    "sales = sales[sales['sales']!='']\n",
    "sales.head()"
   ]
  },
  {
   "cell_type": "code",
   "execution_count": 14,
   "id": "950a75a4",
   "metadata": {},
   "outputs": [
    {
     "data": {
      "text/plain": [
       "(10749, 6)"
      ]
     },
     "execution_count": 14,
     "metadata": {},
     "output_type": "execute_result"
    }
   ],
   "source": [
    "sales.shape"
   ]
  },
  {
   "cell_type": "code",
   "execution_count": 18,
   "id": "aac29bf5",
   "metadata": {},
   "outputs": [
    {
     "name": "stderr",
     "output_type": "stream",
     "text": [
      "/tmp/ipykernel_8578/898717284.py:1: SettingWithCopyWarning: \n",
      "A value is trying to be set on a copy of a slice from a DataFrame.\n",
      "Try using .loc[row_indexer,col_indexer] = value instead\n",
      "\n",
      "See the caveats in the documentation: https://pandas.pydata.org/pandas-docs/stable/user_guide/indexing.html#returning-a-view-versus-a-copy\n",
      "  sales['year']= pd.to_datetime(sales['year'], format='%Y')\n"
     ]
    }
   ],
   "source": [
    "sales['year']= pd.to_datetime(sales['year'], format='%Y')"
   ]
  },
  {
   "cell_type": "code",
   "execution_count": 19,
   "id": "8cb8a30f",
   "metadata": {},
   "outputs": [
    {
     "name": "stdout",
     "output_type": "stream",
     "text": [
      "<class 'pandas.core.frame.DataFrame'>\n",
      "Int64Index: 10749 entries, 0 to 10765\n",
      "Data columns (total 6 columns):\n",
      " #   Column  Non-Null Count  Dtype         \n",
      "---  ------  --------------  -----         \n",
      " 0   전문/일반   10749 non-null  object        \n",
      " 1   품목명     10747 non-null  object        \n",
      " 2   국가      10747 non-null  object        \n",
      " 3   포장단위    10747 non-null  object        \n",
      " 4   sales   10749 non-null  object        \n",
      " 5   year    10749 non-null  datetime64[ns]\n",
      "dtypes: datetime64[ns](1), object(5)\n",
      "memory usage: 587.8+ KB\n"
     ]
    }
   ],
   "source": [
    "sales.info()"
   ]
  },
  {
   "cell_type": "code",
   "execution_count": 20,
   "id": "b18f6b0d",
   "metadata": {},
   "outputs": [
    {
     "name": "stderr",
     "output_type": "stream",
     "text": [
      "/tmp/ipykernel_8578/774734216.py:1: SettingWithCopyWarning: \n",
      "A value is trying to be set on a copy of a slice from a DataFrame.\n",
      "Try using .loc[row_indexer,col_indexer] = value instead\n",
      "\n",
      "See the caveats in the documentation: https://pandas.pydata.org/pandas-docs/stable/user_guide/indexing.html#returning-a-view-versus-a-copy\n",
      "  sales['sales'] = sales.sales.astype(int)\n"
     ]
    }
   ],
   "source": [
    "sales['sales'] = sales.sales.astype(int)"
   ]
  },
  {
   "cell_type": "code",
   "execution_count": 21,
   "id": "f610741e",
   "metadata": {},
   "outputs": [
    {
     "name": "stdout",
     "output_type": "stream",
     "text": [
      "<class 'pandas.core.frame.DataFrame'>\n",
      "Int64Index: 10749 entries, 0 to 10765\n",
      "Data columns (total 6 columns):\n",
      " #   Column  Non-Null Count  Dtype         \n",
      "---  ------  --------------  -----         \n",
      " 0   전문/일반   10749 non-null  object        \n",
      " 1   품목명     10747 non-null  object        \n",
      " 2   국가      10747 non-null  object        \n",
      " 3   포장단위    10747 non-null  object        \n",
      " 4   sales   10749 non-null  int64         \n",
      " 5   year    10749 non-null  datetime64[ns]\n",
      "dtypes: datetime64[ns](1), int64(1), object(4)\n",
      "memory usage: 587.8+ KB\n"
     ]
    }
   ],
   "source": [
    "sales.info()"
   ]
  },
  {
   "cell_type": "code",
   "execution_count": 22,
   "id": "1a4a24ce",
   "metadata": {},
   "outputs": [],
   "source": [
    "sales.to_csv(\"mergedSales.csv\", mode = \"w\")"
   ]
  }
 ],
 "metadata": {
  "kernelspec": {
   "display_name": "py39_7",
   "language": "python",
   "name": "py39_7"
  },
  "language_info": {
   "codemirror_mode": {
    "name": "ipython",
    "version": 3
   },
   "file_extension": ".py",
   "mimetype": "text/x-python",
   "name": "python",
   "nbconvert_exporter": "python",
   "pygments_lexer": "ipython3",
   "version": "3.9.7"
  }
 },
 "nbformat": 4,
 "nbformat_minor": 5
}
