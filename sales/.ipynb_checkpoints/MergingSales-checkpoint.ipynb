{
 "cells": [
  {
   "cell_type": "code",
   "execution_count": 1,
   "id": "5e06c39a",
   "metadata": {},
   "outputs": [],
   "source": [
    "import pandas as pd\n",
    "\n",
    "df1 = pd.read_csv(\"medicalSales2017.csv\")\n",
    "df2 = pd.read_csv(\"medicalSales2018.csv\")\n",
    "df3 = pd.read_csv(\"medicalSales2019.csv\")\n",
    "df4 = pd.read_csv(\"medicalSales2020.csv\")\n",
    "df5 = pd.read_csv(\"medicalSales2021.csv\")"
   ]
  },
  {
   "cell_type": "code",
   "execution_count": 2,
   "id": "ac05f01d",
   "metadata": {},
   "outputs": [],
   "source": [
    "df1['year'] = 2017\n",
    "df2['year'] = 2018\n",
    "df3['year'] = 2019\n",
    "df4['year'] = 2020\n",
    "df5['year'] = 2021"
   ]
  },
  {
   "cell_type": "code",
   "execution_count": 3,
   "id": "d118efd1",
   "metadata": {},
   "outputs": [
    {
     "name": "stdout",
     "output_type": "stream",
     "text": [
      "Index(['품명', '한글명', '포장단위(규격)', ' 금액(US$)', '제조국', '전문/일반', 'year'], dtype='object')\n",
      "Index(['기준코드', '품명', '한글품명', '포장단위', '제조국', '금액(US$)', '전문/일반', 'year'], dtype='object')\n",
      "Index(['전문/일반', '품명', '국가', '포장단위', ' 금액(USD)', 'year'], dtype='object')\n",
      "Index(['전문/일반', '품명', '국가', '포장단위', ' 금액(USD)', 'year'], dtype='object')\n",
      "Index(['전문/일반', '품명', '국가', '포장단위', ' 금액(USD)', 'year'], dtype='object')\n"
     ]
    }
   ],
   "source": [
    "print(df1.columns)\n",
    "print(df2.columns)\n",
    "print(df3.columns)\n",
    "print(df4.columns)\n",
    "print(df4.columns)"
   ]
  },
  {
   "cell_type": "code",
   "execution_count": 4,
   "id": "8e627f40",
   "metadata": {},
   "outputs": [
    {
     "name": "stdout",
     "output_type": "stream",
     "text": [
      "(7786, 6)\n"
     ]
    },
    {
     "data": {
      "text/html": [
       "<div>\n",
       "<style scoped>\n",
       "    .dataframe tbody tr th:only-of-type {\n",
       "        vertical-align: middle;\n",
       "    }\n",
       "\n",
       "    .dataframe tbody tr th {\n",
       "        vertical-align: top;\n",
       "    }\n",
       "\n",
       "    .dataframe thead th {\n",
       "        text-align: right;\n",
       "    }\n",
       "</style>\n",
       "<table border=\"1\" class=\"dataframe\">\n",
       "  <thead>\n",
       "    <tr style=\"text-align: right;\">\n",
       "      <th></th>\n",
       "      <th>전문/일반</th>\n",
       "      <th>품명</th>\n",
       "      <th>국가</th>\n",
       "      <th>포장단위</th>\n",
       "      <th>금액(USD)</th>\n",
       "      <th>year</th>\n",
       "    </tr>\n",
       "  </thead>\n",
       "  <tbody>\n",
       "    <tr>\n",
       "      <th>0</th>\n",
       "      <td>일반</td>\n",
       "      <td>라미실크림1%(테르비나핀염산염)</td>\n",
       "      <td>SWITZERLAND</td>\n",
       "      <td>15G/TUBE</td>\n",
       "      <td>1,075,505</td>\n",
       "      <td>2019</td>\n",
       "    </tr>\n",
       "    <tr>\n",
       "      <th>1</th>\n",
       "      <td>일반</td>\n",
       "      <td>스완안약(SWANEYEDROPS)</td>\n",
       "      <td>JAPAN</td>\n",
       "      <td>15ML/BOTTLE</td>\n",
       "      <td>89,202</td>\n",
       "      <td>2019</td>\n",
       "    </tr>\n",
       "    <tr>\n",
       "      <th>2</th>\n",
       "      <td>일반</td>\n",
       "      <td>듀라티얼즈안연고(무수액체라놀린)</td>\n",
       "      <td>BELGIUM</td>\n",
       "      <td>3.5G/1TUBE/PACK</td>\n",
       "      <td>417,372</td>\n",
       "      <td>2019</td>\n",
       "    </tr>\n",
       "    <tr>\n",
       "      <th>3</th>\n",
       "      <td>일반</td>\n",
       "      <td>얄액</td>\n",
       "      <td>GERMANY</td>\n",
       "      <td>67.5ML/10BOTTLE/BOX</td>\n",
       "      <td>120,955</td>\n",
       "      <td>2019</td>\n",
       "    </tr>\n",
       "    <tr>\n",
       "      <th>4</th>\n",
       "      <td>일반</td>\n",
       "      <td>투진액(목근피틴크)</td>\n",
       "      <td>CHINA</td>\n",
       "      <td>18ML/BOTTLE</td>\n",
       "      <td>35,464</td>\n",
       "      <td>2019</td>\n",
       "    </tr>\n",
       "  </tbody>\n",
       "</table>\n",
       "</div>"
      ],
      "text/plain": [
       "  전문/일반                  품명           국가                 포장단위       금액(USD)  \\\n",
       "0    일반   라미실크림1%(테르비나핀염산염)  SWITZERLAND             15G/TUBE    1,075,505    \n",
       "1    일반  스완안약(SWANEYEDROPS)        JAPAN          15ML/BOTTLE       89,202    \n",
       "2    일반   듀라티얼즈안연고(무수액체라놀린)      BELGIUM      3.5G/1TUBE/PACK      417,372    \n",
       "3    일반                  얄액      GERMANY  67.5ML/10BOTTLE/BOX      120,955    \n",
       "4    일반          투진액(목근피틴크)        CHINA          18ML/BOTTLE       35,464    \n",
       "\n",
       "   year  \n",
       "0  2019  \n",
       "1  2019  \n",
       "2  2019  \n",
       "3  2019  \n",
       "4  2019  "
      ]
     },
     "execution_count": 4,
     "metadata": {},
     "output_type": "execute_result"
    }
   ],
   "source": [
    "# 19, 20, 21년 병합\n",
    "merged_01 = pd.concat([df3, df4, df5])\n",
    "print(merged_01.shape)\n",
    "merged_01.head()"
   ]
  },
  {
   "cell_type": "code",
   "execution_count": 5,
   "id": "c86eb87e",
   "metadata": {},
   "outputs": [],
   "source": [
    "# 2017년 데이터 열 이름 변경 to 국가, 포장단위, 금액(USD), 품명\n",
    "df1.rename(columns={'품명':'영문명', '한글명':'품명', '포장단위(규격)':'포장단위', ' 금액(US$)':' 금액(USD)', '제조국':'국가'}, inplace=True)"
   ]
  },
  {
   "cell_type": "code",
   "execution_count": 6,
   "id": "d0006ffc",
   "metadata": {},
   "outputs": [
    {
     "data": {
      "text/html": [
       "<div>\n",
       "<style scoped>\n",
       "    .dataframe tbody tr th:only-of-type {\n",
       "        vertical-align: middle;\n",
       "    }\n",
       "\n",
       "    .dataframe tbody tr th {\n",
       "        vertical-align: top;\n",
       "    }\n",
       "\n",
       "    .dataframe thead th {\n",
       "        text-align: right;\n",
       "    }\n",
       "</style>\n",
       "<table border=\"1\" class=\"dataframe\">\n",
       "  <thead>\n",
       "    <tr style=\"text-align: right;\">\n",
       "      <th></th>\n",
       "      <th>기준코드</th>\n",
       "      <th>영문명</th>\n",
       "      <th>품명</th>\n",
       "      <th>포장단위</th>\n",
       "      <th>국가</th>\n",
       "      <th>금액(USD)</th>\n",
       "      <th>전문/일반</th>\n",
       "      <th>year</th>\n",
       "    </tr>\n",
       "  </thead>\n",
       "  <tbody>\n",
       "    <tr>\n",
       "      <th>0</th>\n",
       "      <td>199304200</td>\n",
       "      <td>HEP-FORTE</td>\n",
       "      <td>헵포르테</td>\n",
       "      <td>120CAP/BOTTLE</td>\n",
       "      <td>USA</td>\n",
       "      <td>81,506</td>\n",
       "      <td>일반</td>\n",
       "      <td>2018</td>\n",
       "    </tr>\n",
       "    <tr>\n",
       "      <th>1</th>\n",
       "      <td>199304200</td>\n",
       "      <td>HEP-FORTE</td>\n",
       "      <td>헵포르테</td>\n",
       "      <td>200CAP/BOTTLE</td>\n",
       "      <td>USA</td>\n",
       "      <td>180,366</td>\n",
       "      <td>일반</td>\n",
       "      <td>2018</td>\n",
       "    </tr>\n",
       "    <tr>\n",
       "      <th>2</th>\n",
       "      <td>199304286</td>\n",
       "      <td>LAMISIL CREAM 1%</td>\n",
       "      <td>라미실크림1%</td>\n",
       "      <td>15G/TUBE</td>\n",
       "      <td>SWITZERLAND</td>\n",
       "      <td>1,817,904</td>\n",
       "      <td>일반</td>\n",
       "      <td>2018</td>\n",
       "    </tr>\n",
       "    <tr>\n",
       "      <th>3</th>\n",
       "      <td>199304286</td>\n",
       "      <td>LAMISIL CREAM 1%</td>\n",
       "      <td>라미실크림1%</td>\n",
       "      <td>30G/TUBE</td>\n",
       "      <td>SWITZERLAND</td>\n",
       "      <td>1,120,470</td>\n",
       "      <td>일반</td>\n",
       "      <td>2018</td>\n",
       "    </tr>\n",
       "    <tr>\n",
       "      <th>4</th>\n",
       "      <td>199304353</td>\n",
       "      <td>SWAN EYE DROPS</td>\n",
       "      <td>스완안약</td>\n",
       "      <td>15ML/BOTTLE</td>\n",
       "      <td>JAPAN</td>\n",
       "      <td>117,580</td>\n",
       "      <td>일반</td>\n",
       "      <td>2018</td>\n",
       "    </tr>\n",
       "  </tbody>\n",
       "</table>\n",
       "</div>"
      ],
      "text/plain": [
       "        기준코드               영문명       품명           포장단위           국가  \\\n",
       "0  199304200         HEP-FORTE     헵포르테  120CAP/BOTTLE          USA   \n",
       "1  199304200         HEP-FORTE     헵포르테  200CAP/BOTTLE          USA   \n",
       "2  199304286  LAMISIL CREAM 1%  라미실크림1%       15G/TUBE  SWITZERLAND   \n",
       "3  199304286  LAMISIL CREAM 1%  라미실크림1%       30G/TUBE  SWITZERLAND   \n",
       "4  199304353    SWAN EYE DROPS     스완안약    15ML/BOTTLE        JAPAN   \n",
       "\n",
       "        금액(USD) 전문/일반  year  \n",
       "0       81,506     일반  2018  \n",
       "1      180,366     일반  2018  \n",
       "2    1,817,904     일반  2018  \n",
       "3    1,120,470     일반  2018  \n",
       "4      117,580     일반  2018  "
      ]
     },
     "execution_count": 6,
     "metadata": {},
     "output_type": "execute_result"
    }
   ],
   "source": [
    "# 2018년 열 이름 변경 to 국가, 포장단위, 금액(USD), 품명\n",
    "df2.rename(columns={'품명':'영문명', '한글품명':'품명', '금액(US$)':' 금액(USD)', '제조국':'국가'}, inplace=True)\n",
    "df2.head()"
   ]
  },
  {
   "cell_type": "code",
   "execution_count": 7,
   "id": "7f4cee9f",
   "metadata": {},
   "outputs": [
    {
     "name": "stdout",
     "output_type": "stream",
     "text": [
      "Index(['영문명', '품명', '포장단위', ' 금액(USD)', '국가', '전문/일반', 'year'], dtype='object')\n",
      "Index(['기준코드', '영문명', '품명', '포장단위', '국가', ' 금액(USD)', '전문/일반', 'year'], dtype='object')\n"
     ]
    }
   ],
   "source": [
    "print(df1.columns)\n",
    "print(df2.columns)"
   ]
  },
  {
   "cell_type": "code",
   "execution_count": 8,
   "id": "b2ac52a0",
   "metadata": {},
   "outputs": [],
   "source": [
    "df1=df1[['전문/일반','품명','국가', '포장단위', ' 금액(USD)', 'year' ]]"
   ]
  },
  {
   "cell_type": "code",
   "execution_count": 9,
   "id": "2674380c",
   "metadata": {},
   "outputs": [],
   "source": [
    "df2 = df2[['전문/일반','품명','국가', '포장단위', ' 금액(USD)', 'year' ]]"
   ]
  },
  {
   "cell_type": "code",
   "execution_count": 10,
   "id": "4a3b1f2d",
   "metadata": {},
   "outputs": [],
   "source": [
    "df = pd.concat([df1, df2, merged_01])\n",
    "df.to_csv(\"mergedSales.csv\", mode=\"w\")"
   ]
  },
  {
   "cell_type": "code",
   "execution_count": null,
   "id": "e852b7f6",
   "metadata": {},
   "outputs": [],
   "source": []
  }
 ],
 "metadata": {
  "kernelspec": {
   "display_name": "py39_7",
   "language": "python",
   "name": "py39_7"
  },
  "language_info": {
   "codemirror_mode": {
    "name": "ipython",
    "version": 3
   },
   "file_extension": ".py",
   "mimetype": "text/x-python",
   "name": "python",
   "nbconvert_exporter": "python",
   "pygments_lexer": "ipython3",
   "version": "3.9.7"
  }
 },
 "nbformat": 4,
 "nbformat_minor": 5
}
